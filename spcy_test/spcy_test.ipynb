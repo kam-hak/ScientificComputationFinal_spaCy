{
 "cells": [
  {
   "cell_type": "code",
   "execution_count": 26,
   "metadata": {},
   "outputs": [
    {
     "name": "stdout",
     "output_type": "stream",
     "text": [
      "Collecting en-core-web-sm==3.5.0\n",
      "  Downloading https://github.com/explosion/spacy-models/releases/download/en_core_web_sm-3.5.0/en_core_web_sm-3.5.0-py3-none-any.whl (12.8 MB)\n",
      "\u001b[2K     \u001b[90m━━━━━━━━━━━━━━━━━━━━━━━━━━━━━━━━━━━━━━━━\u001b[0m \u001b[32m12.8/12.8 MB\u001b[0m \u001b[31m43.2 MB/s\u001b[0m eta \u001b[36m0:00:00\u001b[0m00:01\u001b[0m00:01\u001b[0m\n",
      "\u001b[?25hRequirement already satisfied: spacy<3.6.0,>=3.5.0 in /Users/kamran/opt/anaconda3/envs/ex_spacy_proj/lib/python3.9/site-packages (from en-core-web-sm==3.5.0) (3.5.1)\n",
      "Requirement already satisfied: spacy-legacy<3.1.0,>=3.0.11 in /Users/kamran/opt/anaconda3/envs/ex_spacy_proj/lib/python3.9/site-packages (from spacy<3.6.0,>=3.5.0->en-core-web-sm==3.5.0) (3.0.12)\n",
      "Requirement already satisfied: spacy-loggers<2.0.0,>=1.0.0 in /Users/kamran/opt/anaconda3/envs/ex_spacy_proj/lib/python3.9/site-packages (from spacy<3.6.0,>=3.5.0->en-core-web-sm==3.5.0) (1.0.4)\n",
      "Requirement already satisfied: murmurhash<1.1.0,>=0.28.0 in /Users/kamran/opt/anaconda3/envs/ex_spacy_proj/lib/python3.9/site-packages (from spacy<3.6.0,>=3.5.0->en-core-web-sm==3.5.0) (1.0.9)\n",
      "Requirement already satisfied: cymem<2.1.0,>=2.0.2 in /Users/kamran/opt/anaconda3/envs/ex_spacy_proj/lib/python3.9/site-packages (from spacy<3.6.0,>=3.5.0->en-core-web-sm==3.5.0) (2.0.7)\n",
      "Requirement already satisfied: preshed<3.1.0,>=3.0.2 in /Users/kamran/opt/anaconda3/envs/ex_spacy_proj/lib/python3.9/site-packages (from spacy<3.6.0,>=3.5.0->en-core-web-sm==3.5.0) (3.0.8)\n",
      "Requirement already satisfied: thinc<8.2.0,>=8.1.8 in /Users/kamran/opt/anaconda3/envs/ex_spacy_proj/lib/python3.9/site-packages (from spacy<3.6.0,>=3.5.0->en-core-web-sm==3.5.0) (8.1.9)\n",
      "Requirement already satisfied: wasabi<1.2.0,>=0.9.1 in /Users/kamran/opt/anaconda3/envs/ex_spacy_proj/lib/python3.9/site-packages (from spacy<3.6.0,>=3.5.0->en-core-web-sm==3.5.0) (1.1.1)\n",
      "Requirement already satisfied: srsly<3.0.0,>=2.4.3 in /Users/kamran/opt/anaconda3/envs/ex_spacy_proj/lib/python3.9/site-packages (from spacy<3.6.0,>=3.5.0->en-core-web-sm==3.5.0) (2.4.6)\n",
      "Requirement already satisfied: catalogue<2.1.0,>=2.0.6 in /Users/kamran/opt/anaconda3/envs/ex_spacy_proj/lib/python3.9/site-packages (from spacy<3.6.0,>=3.5.0->en-core-web-sm==3.5.0) (2.0.8)\n",
      "Requirement already satisfied: typer<0.8.0,>=0.3.0 in /Users/kamran/opt/anaconda3/envs/ex_spacy_proj/lib/python3.9/site-packages (from spacy<3.6.0,>=3.5.0->en-core-web-sm==3.5.0) (0.7.0)\n",
      "Requirement already satisfied: pathy>=0.10.0 in /Users/kamran/opt/anaconda3/envs/ex_spacy_proj/lib/python3.9/site-packages (from spacy<3.6.0,>=3.5.0->en-core-web-sm==3.5.0) (0.10.1)\n",
      "Requirement already satisfied: smart-open<7.0.0,>=5.2.1 in /Users/kamran/opt/anaconda3/envs/ex_spacy_proj/lib/python3.9/site-packages (from spacy<3.6.0,>=3.5.0->en-core-web-sm==3.5.0) (5.2.1)\n",
      "Requirement already satisfied: tqdm<5.0.0,>=4.38.0 in /Users/kamran/opt/anaconda3/envs/ex_spacy_proj/lib/python3.9/site-packages (from spacy<3.6.0,>=3.5.0->en-core-web-sm==3.5.0) (4.65.0)\n",
      "Requirement already satisfied: numpy>=1.15.0 in /Users/kamran/opt/anaconda3/envs/ex_spacy_proj/lib/python3.9/site-packages (from spacy<3.6.0,>=3.5.0->en-core-web-sm==3.5.0) (1.24.2)\n",
      "Requirement already satisfied: requests<3.0.0,>=2.13.0 in /Users/kamran/opt/anaconda3/envs/ex_spacy_proj/lib/python3.9/site-packages (from spacy<3.6.0,>=3.5.0->en-core-web-sm==3.5.0) (2.28.2)\n",
      "Requirement already satisfied: pydantic!=1.8,!=1.8.1,<1.11.0,>=1.7.4 in /Users/kamran/opt/anaconda3/envs/ex_spacy_proj/lib/python3.9/site-packages (from spacy<3.6.0,>=3.5.0->en-core-web-sm==3.5.0) (1.10.7)\n",
      "Requirement already satisfied: jinja2 in /Users/kamran/opt/anaconda3/envs/ex_spacy_proj/lib/python3.9/site-packages (from spacy<3.6.0,>=3.5.0->en-core-web-sm==3.5.0) (3.1.2)\n",
      "Requirement already satisfied: setuptools in /Users/kamran/opt/anaconda3/envs/ex_spacy_proj/lib/python3.9/site-packages (from spacy<3.6.0,>=3.5.0->en-core-web-sm==3.5.0) (67.6.1)\n",
      "Requirement already satisfied: packaging>=20.0 in /Users/kamran/opt/anaconda3/envs/ex_spacy_proj/lib/python3.9/site-packages (from spacy<3.6.0,>=3.5.0->en-core-web-sm==3.5.0) (23.1)\n",
      "Requirement already satisfied: langcodes<4.0.0,>=3.2.0 in /Users/kamran/opt/anaconda3/envs/ex_spacy_proj/lib/python3.9/site-packages (from spacy<3.6.0,>=3.5.0->en-core-web-sm==3.5.0) (3.3.0)\n",
      "Requirement already satisfied: typing-extensions>=4.2.0 in /Users/kamran/opt/anaconda3/envs/ex_spacy_proj/lib/python3.9/site-packages (from pydantic!=1.8,!=1.8.1,<1.11.0,>=1.7.4->spacy<3.6.0,>=3.5.0->en-core-web-sm==3.5.0) (4.5.0)\n",
      "Requirement already satisfied: charset-normalizer<4,>=2 in /Users/kamran/opt/anaconda3/envs/ex_spacy_proj/lib/python3.9/site-packages (from requests<3.0.0,>=2.13.0->spacy<3.6.0,>=3.5.0->en-core-web-sm==3.5.0) (3.1.0)\n",
      "Requirement already satisfied: idna<4,>=2.5 in /Users/kamran/opt/anaconda3/envs/ex_spacy_proj/lib/python3.9/site-packages (from requests<3.0.0,>=2.13.0->spacy<3.6.0,>=3.5.0->en-core-web-sm==3.5.0) (3.4)\n",
      "Requirement already satisfied: urllib3<1.27,>=1.21.1 in /Users/kamran/opt/anaconda3/envs/ex_spacy_proj/lib/python3.9/site-packages (from requests<3.0.0,>=2.13.0->spacy<3.6.0,>=3.5.0->en-core-web-sm==3.5.0) (1.26.15)\n",
      "Requirement already satisfied: certifi>=2017.4.17 in /Users/kamran/opt/anaconda3/envs/ex_spacy_proj/lib/python3.9/site-packages (from requests<3.0.0,>=2.13.0->spacy<3.6.0,>=3.5.0->en-core-web-sm==3.5.0) (2022.12.7)\n",
      "Requirement already satisfied: blis<0.8.0,>=0.7.8 in /Users/kamran/opt/anaconda3/envs/ex_spacy_proj/lib/python3.9/site-packages (from thinc<8.2.0,>=8.1.8->spacy<3.6.0,>=3.5.0->en-core-web-sm==3.5.0) (0.7.9)\n",
      "Requirement already satisfied: confection<1.0.0,>=0.0.1 in /Users/kamran/opt/anaconda3/envs/ex_spacy_proj/lib/python3.9/site-packages (from thinc<8.2.0,>=8.1.8->spacy<3.6.0,>=3.5.0->en-core-web-sm==3.5.0) (0.0.4)\n",
      "Requirement already satisfied: click<9.0.0,>=7.1.1 in /Users/kamran/opt/anaconda3/envs/ex_spacy_proj/lib/python3.9/site-packages (from typer<0.8.0,>=0.3.0->spacy<3.6.0,>=3.5.0->en-core-web-sm==3.5.0) (8.1.3)\n",
      "Requirement already satisfied: MarkupSafe>=2.0 in /Users/kamran/opt/anaconda3/envs/ex_spacy_proj/lib/python3.9/site-packages (from jinja2->spacy<3.6.0,>=3.5.0->en-core-web-sm==3.5.0) (2.1.2)\n",
      "\u001b[38;5;2m✔ Download and installation successful\u001b[0m\n",
      "You can now load the package via spacy.load('en_core_web_sm')\n"
     ]
    }
   ],
   "source": [
    "# import titles data\n",
    "\n",
    "import pandas as pd\n",
    "import spacy\n",
    "from spacy import displacy\n",
    "!python -m spacy download en_core_web_sm\n",
    "nlp = spacy.load(\"en_core_web_sm\", disable=['ner'])\n",
    "\n",
    "df = (pd.read_csv(\"Questions.csv\", nrows=1_000_000,\n",
    "                    encoding=\"ISO-8859-1\", usecols=['Title', 'Id']))\n",
    "titles = [_ for _ in df.loc[lambda d: d['Title'].str.lower().str.contains(\"go\")]['Title']]\n"
   ]
  },
  {
   "cell_type": "code",
   "execution_count": 27,
   "metadata": {},
   "outputs": [
    {
     "data": {
      "text/plain": [
       "['Stop cursor from going to start of text field',\n",
       " 'Google Play Developer Console : Some stats are missing',\n",
       " 'S3 not serving media files to Django heroku app',\n",
       " 'How to show 2 markers on a Google Map?',\n",
       " 'Connect to Google Calendar API but get empty array of events',\n",
       " 'Search Algorithm error regarding first index value',\n",
       " 'wagon-ssh-1.0-beta-2.jar usage problem',\n",
       " 'Need help creating Coldfusion App to Google Group API',\n",
       " 'Indentation standards when writing django Application',\n",
       " 'One django instance one database vs different django instances',\n",
       " 'Archives page in Django',\n",
       " 'Google Map Algorithm (Ajax, Tiles, etc)',\n",
       " 'Getting results with association that belongs only to a certain list of categories',\n",
       " 'Weird Segfaults Go Away After Full Rebuild',\n",
       " 'Creating a regular expression in django',\n",
       " 'Got response from server is this response correct If so How to parse that response?',\n",
       " 'google play services not supported for Maps',\n",
       " \"How to copy and paste the value or text from Google search box to ask.com's search box in the same windows form?\",\n",
       " 'Changing speed of an ongoing CAKeyframeAnimation animation',\n",
       " 'I forgot my android apk signing pasword?']"
      ]
     },
     "execution_count": 27,
     "metadata": {},
     "output_type": "execute_result"
    }
   ],
   "source": [
    "# look at random titles to get a sense\n",
    "import random \n",
    "random.choices(titles, k=20)"
   ]
  },
  {
   "cell_type": "markdown",
   "metadata": {},
   "source": []
  },
  {
   "cell_type": "code",
   "execution_count": 28,
   "metadata": {},
   "outputs": [
    {
     "data": {
      "text/plain": [
       "[How do I disable multiple listboxes in one go using jQuery?,\n",
       " Embedding instead of inheritance in Go,\n",
       " Shared library in Go?,\n",
       " multi package makefile example for go,\n",
       " What's the point of having pointers in Go?,\n",
       " Simulate a tcp connection in Go,\n",
       " Trouble reading from a socket in go,\n",
       " Convert string to integer type in Go?,\n",
       " Implementing the âdeferâ statement from Go in Objective-C?,\n",
       " what's the state of go language IDE support?,\n",
       " Global Variables with GO,\n",
       " Generating Random Numbers in Go,\n",
       " making generic algorithms in go,\n",
       " In Go, one type is coerced into another, can a method to determine the type of the receiver?,\n",
       " The maximum value for an int type in Go,\n",
       " Do Sets exist in Go? (like in Python),\n",
       " Usage of interface in Go,\n",
       " How do I retrieve file data over a socket in Go?,\n",
       " How do you create a new instance of a struct from it's Type at runtime in Go?,\n",
       " Is it possible to make extensions to python/php/perl with Go?]"
      ]
     },
     "execution_count": 28,
     "metadata": {},
     "output_type": "execute_result"
    }
   ],
   "source": [
    "# Quickly trying string match\n",
    "def has_golang(doc):\n",
    "    doc=nlp(doc)\n",
    "    for t in doc:\n",
    "        if t.lower_ in [\"go\", \"golang\"]:\n",
    "            if t.pos_ != 'VERB':\n",
    "                if t.dep_ == 'pobj':\n",
    "                    return True\n",
    "    return False\n",
    "\n",
    "g = (doc for doc in nlp.pipe(titles) if has_golang(doc))\n",
    "[next(g) for i in range (20)]\n",
    "\n",
    "## basic string matching will not help us here. There is some inherent meaning for 'Go' as a token that cannot be understood through a string match."
   ]
  },
  {
   "cell_type": "code",
   "execution_count": 29,
   "metadata": {},
   "outputs": [
    {
     "data": {
      "text/plain": [
       "(1167, 762, 1345)"
      ]
     },
     "execution_count": 29,
     "metadata": {},
     "output_type": "execute_result"
    }
   ],
   "source": [
    "df_tags = pd.read_csv(\"Tags.csv\")\n",
    "go_ids = df_tags.loc[lambda d: d['Tag'] == 'go']['Id']\n",
    "\n",
    "def has_go_token(doc):\n",
    "    for t in doc:\n",
    "        if t.lower_ in [\"go\", \"golang\"]:\n",
    "            return True\n",
    "    return False\n",
    "\n",
    "all_go_sentences = df.loc[lambda d: d['Id'].isin(go_ids)]['Title'].tolist()\n",
    "detectable = [d.text for d in nlp.pipe(all_go_sentences) if has_go_token(d)]\n",
    "\n",
    "non_detectable = (df\n",
    "                 .loc[lambda d: ~d['Id'].isin(go_ids)]\n",
    "                 .loc[lambda d: d['Title'].str.lower().str.contains(\"go\")]\n",
    "                 ['Title']\n",
    "                 .tolist())\n",
    "\n",
    "non_detectable = [d.text for d in nlp.pipe(non_detectable) if has_go_token(d)]\n",
    "\n",
    "len(all_go_sentences), len(detectable), len(non_detectable)"
   ]
  },
  {
   "cell_type": "code",
   "execution_count": 30,
   "metadata": {},
   "outputs": [
    {
     "data": {
      "text/plain": [
       "'model: en_core_web_sm, method not-verb-but-pobj, precision: 0.93, recall: 0.39, accuracy: 0.77'"
      ]
     },
     "execution_count": 30,
     "metadata": {},
     "output_type": "execute_result"
    }
   ],
   "source": [
    "model_name = \"en_core_web_sm\"\n",
    "model = spacy.load(model_name, disable=['ner'])\n",
    "\n",
    "def has_go_token(doc):\n",
    "    for t in doc:\n",
    "        if t.lower_ in [\"go\", \"golang\"]:\n",
    "            if t.pos_ != 'VERB':\n",
    "                if t.dep_ == 'pobj':\n",
    "                    return True\n",
    "    return False\n",
    "\n",
    "method = \"not-verb-but-pobj\"\n",
    "\n",
    "correct = sum(has_go_token(doc) for doc in model.pipe(detectable))\n",
    "wrong = sum(has_go_token(doc) for doc in model.pipe(non_detectable))\n",
    "precision = correct / (correct + wrong)\n",
    "recall = correct / len(detectable)\n",
    "accuracy = (correct + len(non_detectable) - wrong) / (len(detectable) + len(non_detectable))\n",
    "\n",
    "f\"model: {model_name}, method {method}, precision: {precision:.2f}, recall: {recall:.2f}, accuracy: {accuracy:.2f}\""
   ]
  },
  {
   "cell_type": "code",
   "execution_count": 32,
   "metadata": {},
   "outputs": [
    {
     "ename": "TypeError",
     "evalue": "add() takes exactly 2 positional arguments (3 given)",
     "output_type": "error",
     "traceback": [
      "\u001b[0;31m---------------------------------------------------------------------------\u001b[0m",
      "\u001b[0;31mTypeError\u001b[0m                                 Traceback (most recent call last)",
      "Cell \u001b[0;32mIn[32], line 12\u001b[0m\n\u001b[1;32m      8\u001b[0m \u001b[39mfrom\u001b[39;00m \u001b[39mspacy\u001b[39;00m\u001b[39m.\u001b[39;00m\u001b[39mmatcher\u001b[39;00m \u001b[39mimport\u001b[39;00m Matcher\n\u001b[1;32m     10\u001b[0m matcher \u001b[39m=\u001b[39m Matcher(nlp\u001b[39m.\u001b[39mvocab)\n\u001b[0;32m---> 12\u001b[0m matcher\u001b[39m.\u001b[39;49madd(\u001b[39m\"\u001b[39;49m\u001b[39mOBJ_C\u001b[39;49m\u001b[39m\"\u001b[39;49m, \u001b[39mNone\u001b[39;49;00m, obj_c_pattern)\n\u001b[1;32m     13\u001b[0m matcher\u001b[39m.\u001b[39madd(\u001b[39m\"\u001b[39m\u001b[39mGOLANG_LANG\u001b[39m\u001b[39m\"\u001b[39m, \u001b[39mNone\u001b[39;00m, golang_pattern)\n",
      "File \u001b[0;32m~/opt/anaconda3/envs/ex_spacy_proj/lib/python3.9/site-packages/spacy/matcher/matcher.pyx:81\u001b[0m, in \u001b[0;36mspacy.matcher.matcher.Matcher.add\u001b[0;34m()\u001b[0m\n",
      "\u001b[0;31mTypeError\u001b[0m: add() takes exactly 2 positional arguments (3 given)"
     ]
    }
   ],
   "source": [
    "obj_c_pattern = [{'LOWER': 'objective'},\n",
    "                 {'IS_PUNCT': True},\n",
    "                 {'LOWER': 'c'}]\n",
    "\n",
    "golang_pattern = [{'LOWER': {'IN': ['go', 'golang']},\n",
    "                   'POS': ['NOT_IN', 'VERB']}]\n",
    "\n",
    "from spacy.matcher import Matcher\n",
    "\n",
    "matcher = Matcher(nlp.vocab)\n",
    "\n",
    "matcher.add(\"OBJ_C_LANG\", None, obj_c_pattern)\n",
    "matcher.add(\"GOLANG_LANG\", None, golang_pattern)"
   ]
  },
  {
   "cell_type": "code",
   "execution_count": null,
   "metadata": {},
   "outputs": [
    {
     "data": {
      "text/plain": [
       "list"
      ]
     },
     "execution_count": 14,
     "metadata": {},
     "output_type": "execute_result"
    }
   ],
   "source": [
    "spacy.explain(\"pobj\")\n",
    "type(all_go_sentences)\n",
    "\n",
    "\n"
   ]
  }
 ],
 "metadata": {
  "kernelspec": {
   "display_name": "base",
   "language": "python",
   "name": "python3"
  },
  "language_info": {
   "codemirror_mode": {
    "name": "ipython",
    "version": 3
   },
   "file_extension": ".py",
   "mimetype": "text/x-python",
   "name": "python",
   "nbconvert_exporter": "python",
   "pygments_lexer": "ipython3",
   "version": "3.9.16"
  },
  "orig_nbformat": 4
 },
 "nbformat": 4,
 "nbformat_minor": 2
}
